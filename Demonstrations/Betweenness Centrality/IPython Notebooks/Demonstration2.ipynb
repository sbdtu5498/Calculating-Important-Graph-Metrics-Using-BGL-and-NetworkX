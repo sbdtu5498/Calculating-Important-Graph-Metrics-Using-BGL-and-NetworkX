{
 "cells": [
  {
   "cell_type": "code",
   "execution_count": 4,
   "id": "53957d38",
   "metadata": {},
   "outputs": [
    {
     "name": "stdout",
     "output_type": "stream",
     "text": [
      "Vertex Betweenness Centrality\n",
      "{1: 0.0, 2: 2.0, 3: 2.0, 4: 0.0}\n",
      "{1: 0.0, 2: 0.6666666666666666, 3: 0.6666666666666666, 4: 0.0}\n",
      "\n",
      "Edge Betweenness Centrality\n",
      "{(1, 2): 3.0, (2, 3): 4.0, (3, 4): 3.0}\n",
      "{(1, 2): 0.5, (2, 3): 0.6666666666666666, (3, 4): 0.5}\n",
      "\n",
      "strict graph \"\" {\n",
      "\t1 -- 2\t[weight=5.0];\n",
      "\t2 -- 3\t[weight=3.0];\n",
      "\t3 -- 4\t[weight=7.3];\n",
      "}\n",
      "\n"
     ]
    },
    {
     "data": {
      "image/png": "[encoded data removed]",
      "text/plain": [
       "<IPython.core.display.Image object>"
      ]
     },
     "execution_count": 4,
     "metadata": {},
     "output_type": "execute_result"
    }
   ],
   "source": [
    "import networkx as nx\n",
    "import pygraphviz as pgv\n",
    "from IPython.display import Image\n",
    "\n",
    "G = nx.Graph()\n",
    "e = [(1, 2, 5.0),\n",
    "     (2, 3, 3.0),\n",
    "     (3, 4, 7.3)]\n",
    "G.add_weighted_edges_from(e, weight='weight')\n",
    "\n",
    "print('Vertex Betweenness Centrality')\n",
    "print(nx.betweenness_centrality(G, normalized=False, weight='weight'))\n",
    "print(nx.betweenness_centrality(G, weight='weight'))\n",
    "\n",
    "print()\n",
    "\n",
    "print(\"Edge Betweenness Centrality\")\n",
    "print(nx.edge_betweenness_centrality(G, normalized=False, weight='weight'))\n",
    "print(nx.edge_betweenness_centrality(G, weight='weight'))\n",
    "\n",
    "print()\n",
    "\n",
    "A = nx.nx_agraph.to_agraph(G)\n",
    "print(A.string())\n",
    "A.write(\"graph.dot\")\n",
    "\n",
    "B = pgv.AGraph(\"graph.dot\")\n",
    "B.layout()\n",
    "B.draw(\"graph.png\")\n",
    "\n",
    "Image(filename='graph.png')\n"
   ]
  }
 ],
 "metadata": {
  "kernelspec": {
   "display_name": "Python 3 (ipykernel)",
   "language": "python",
   "name": "python3"
  },
  "language_info": {
   "codemirror_mode": {
    "name": "ipython",
    "version": 3
   },
   "file_extension": ".py",
   "mimetype": "text/x-python",
   "name": "python",
   "nbconvert_exporter": "python",
   "pygments_lexer": "ipython3",
   "version": "3.8.10"
  }
 },
 "nbformat": 4,
 "nbformat_minor": 5
}

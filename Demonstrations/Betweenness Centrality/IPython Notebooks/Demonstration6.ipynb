{
 "cells": [
  {
   "cell_type": "code",
   "execution_count": 1,
   "metadata": {},
   "outputs": [
    {
     "name": "stdout",
     "output_type": "stream",
     "text": [
      "Vertex Betweenness Centrality\n",
      "{1: 0.0, 2: 2.0, 3: 2.0, 4: 0.0}\n",
      "{1: 0.0, 2: 0.3333333333333333, 3: 0.3333333333333333, 4: 0.0}\n",
      "\n",
      "Edge Betweenness Centrality\n",
      "{(1, 2, 0): 3.0, (2, 3, 0): 4.0, (3, 4, 0): 3.0, (3, 4, 1): 0.0}\n",
      "{(1, 2, 0): 0.25, (2, 3, 0): 0.3333333333333333, (3, 4, 0): 0.25, (3, 4, 1): 0.0}\n",
      "\n",
      "digraph \"\" {\n",
      "\t1 -> 2\t[key=0,\n",
      "\t\tweight=5.0];\n",
      "\t2 -> 3\t[key=0,\n",
      "\t\tweight=3.0];\n",
      "\t3 -> 4\t[key=0,\n",
      "\t\tweight=7.3];\n",
      "\t3 -> 4\t[key=1,\n",
      "\t\tweight=8.0];\n",
      "}\n",
      "\n"
     ]
    },
    {
     "data": {
      "image/png": "[encoded data removed]",
      "text/plain": [
       "<IPython.core.display.Image object>"
      ]
     },
     "execution_count": 1,
     "metadata": {},
     "output_type": "execute_result"
    }
   ],
   "source": [
    "import networkx as nx\n",
    "import pygraphviz as pgv\n",
    "from IPython.display import Image\n",
    "\n",
    "G = nx.MultiDiGraph()\n",
    "e = [(1, 2, 5.0),\n",
    "     (2, 3, 3.0),\n",
    "     (3, 4, 7.3),\n",
    "     (3, 4, 8.0)]\n",
    "G.add_weighted_edges_from(e, weight='weight')\n",
    "\n",
    "print('Vertex Betweenness Centrality')\n",
    "print(nx.betweenness_centrality(G, normalized=False, weight='weight'))\n",
    "print(nx.betweenness_centrality(G, weight='weight'))\n",
    "\n",
    "print()\n",
    "\n",
    "print(\"Edge Betweenness Centrality\")\n",
    "print(nx.edge_betweenness_centrality(G, normalized=False, weight='weight'))\n",
    "print(nx.edge_betweenness_centrality(G, weight='weight'))\n",
    "\n",
    "print()\n",
    "\n",
    "A = nx.nx_agraph.to_agraph(G)\n",
    "print(A.string())\n",
    "A.write(\"graph.dot\")\n",
    "\n",
    "B = pgv.AGraph(\"graph.dot\")\n",
    "B.layout()\n",
    "B.draw(\"graph.png\")\n",
    "\n",
    "Image(filename='graph.png')\n"
   ]
  }
 ],
 "metadata": {
  "interpreter": {
   "hash": "e7370f93d1d0cde622a1f8e1c04877d8463912d04d973331ad4851f04de6915a"
  },
  "kernelspec": {
   "display_name": "Python 3.8.10 64-bit",
   "language": "python",
   "name": "python3"
  },
  "language_info": {
   "codemirror_mode": {
    "name": "ipython",
    "version": 3
   },
   "file_extension": ".py",
   "mimetype": "text/x-python",
   "name": "python",
   "nbconvert_exporter": "python",
   "pygments_lexer": "ipython3",
   "version": "3.8.10"
  },
  "orig_nbformat": 4
 },
 "nbformat": 4,
 "nbformat_minor": 2
}
